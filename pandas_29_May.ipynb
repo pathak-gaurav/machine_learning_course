{
  "nbformat": 4,
  "nbformat_minor": 0,
  "metadata": {
    "colab": {
      "name": "pandas_29-May.ipynb",
      "provenance": [],
      "collapsed_sections": [],
      "toc_visible": true,
      "authorship_tag": "ABX9TyPwJYlR4zPy+0kqO2M6ggQV",
      "include_colab_link": true
    },
    "kernelspec": {
      "name": "python3",
      "display_name": "Python 3"
    }
  },
  "cells": [
    {
      "cell_type": "markdown",
      "metadata": {
        "id": "view-in-github",
        "colab_type": "text"
      },
      "source": [
        "<a href=\"https://colab.research.google.com/github/pathak-gaurav/machine_learning_course/blob/master/pandas_29_May.ipynb\" target=\"_parent\"><img src=\"https://colab.research.google.com/assets/colab-badge.svg\" alt=\"Open In Colab\"/></a>"
      ]
    },
    {
      "cell_type": "code",
      "metadata": {
        "id": "mns9bruyrEYp",
        "colab_type": "code",
        "colab": {}
      },
      "source": [
        "import pandas as pd\n",
        "import numpy as np #known as numerical python\n",
        "import matplotlib.pyplot as plt"
      ],
      "execution_count": 0,
      "outputs": []
    },
    {
      "cell_type": "code",
      "metadata": {
        "id": "f2s60ogK1Tiz",
        "colab_type": "code",
        "colab": {
          "base_uri": "https://localhost:8080/",
          "height": 51
        },
        "outputId": "a4308540-50b1-42a5-ef3b-c4680cbcf171"
      },
      "source": [
        "a = np.array([1,2],dtype=np.int32)\n",
        "print(a)\n",
        "print(type(a[0]))"
      ],
      "execution_count": 29,
      "outputs": [
        {
          "output_type": "stream",
          "text": [
            "[1 2]\n",
            "<class 'numpy.int32'>\n"
          ],
          "name": "stdout"
        }
      ]
    },
    {
      "cell_type": "code",
      "metadata": {
        "id": "Tcz1AZOZ1gBh",
        "colab_type": "code",
        "colab": {
          "base_uri": "https://localhost:8080/",
          "height": 85
        },
        "outputId": "72498b70-3ab0-4644-9f25-d18081c65c33"
      },
      "source": [
        "lst = [1,2,431231231231331]\n",
        "b = np.array(lst)\n",
        "print(b+5)\n",
        "print(type(b))\n",
        "print(type(b[0]))\n",
        "print(np.result_type(b))"
      ],
      "execution_count": 27,
      "outputs": [
        {
          "output_type": "stream",
          "text": [
            "[              6               7 431231231231336]\n",
            "<class 'numpy.ndarray'>\n",
            "<class 'numpy.int64'>\n",
            "int64\n"
          ],
          "name": "stdout"
        }
      ]
    },
    {
      "cell_type": "code",
      "metadata": {
        "id": "zQAn0eAu3ERG",
        "colab_type": "code",
        "colab": {
          "base_uri": "https://localhost:8080/",
          "height": 51
        },
        "outputId": "857c3a79-8848-4ce8-81ec-0f5fb12fe1c4"
      },
      "source": [
        "lst = [False,12.33,10,'Something']\n",
        "c =  np.array(lst)\n",
        "print(type(c))\n",
        "print(np.result_type(c))"
      ],
      "execution_count": 31,
      "outputs": [
        {
          "output_type": "stream",
          "text": [
            "<class 'numpy.ndarray'>\n",
            "<U32\n"
          ],
          "name": "stdout"
        }
      ]
    },
    {
      "cell_type": "code",
      "metadata": {
        "id": "gfNloGDM46mP",
        "colab_type": "code",
        "colab": {
          "base_uri": "https://localhost:8080/",
          "height": 51
        },
        "outputId": "938fb61e-7727-4c3e-a922-47aed999c1a8"
      },
      "source": [
        "a1 = np.array([[1,3],[3,4]])\n",
        "a2 = np.array([[5,6],[7,8]])\n",
        "print(a1*a2)"
      ],
      "execution_count": 32,
      "outputs": [
        {
          "output_type": "stream",
          "text": [
            "[[ 5 18]\n",
            " [21 32]]\n"
          ],
          "name": "stdout"
        }
      ]
    },
    {
      "cell_type": "code",
      "metadata": {
        "id": "G5tWoQ9D5KWr",
        "colab_type": "code",
        "colab": {
          "base_uri": "https://localhost:8080/",
          "height": 51
        },
        "outputId": "ffff8c58-00d0-41f5-ab5c-eda7712e7d99"
      },
      "source": [
        "print(a1@a2)"
      ],
      "execution_count": 33,
      "outputs": [
        {
          "output_type": "stream",
          "text": [
            "[[26 30]\n",
            " [43 50]]\n"
          ],
          "name": "stdout"
        }
      ]
    },
    {
      "cell_type": "code",
      "metadata": {
        "id": "Zpct1vcc5TlC",
        "colab_type": "code",
        "colab": {
          "base_uri": "https://localhost:8080/",
          "height": 51
        },
        "outputId": "b1528748-93fa-47a3-fded-f75f4f80f0a2"
      },
      "source": [
        "print(a1.dot(a2))"
      ],
      "execution_count": 34,
      "outputs": [
        {
          "output_type": "stream",
          "text": [
            "[[26 30]\n",
            " [43 50]]\n"
          ],
          "name": "stdout"
        }
      ]
    },
    {
      "cell_type": "code",
      "metadata": {
        "id": "wZVi5_Gt5e9P",
        "colab_type": "code",
        "colab": {
          "base_uri": "https://localhost:8080/",
          "height": 34
        },
        "outputId": "ba0de720-7a52-485d-f6c7-6ffe8c82ef6f"
      },
      "source": [
        "a3 = np.array([1,2,3],dtype=np.float64)\n",
        "print(a3)"
      ],
      "execution_count": 35,
      "outputs": [
        {
          "output_type": "stream",
          "text": [
            "[1. 2. 3.]\n"
          ],
          "name": "stdout"
        }
      ]
    },
    {
      "cell_type": "code",
      "metadata": {
        "id": "IjoeywY75ojs",
        "colab_type": "code",
        "colab": {
          "base_uri": "https://localhost:8080/",
          "height": 34
        },
        "outputId": "679c870d-82d0-416b-8ee8-7b93a67c6fbf"
      },
      "source": [
        "a4 = np.arange(4)\n",
        "print(a4)"
      ],
      "execution_count": 36,
      "outputs": [
        {
          "output_type": "stream",
          "text": [
            "[0 1 2 3]\n"
          ],
          "name": "stdout"
        }
      ]
    },
    {
      "cell_type": "code",
      "metadata": {
        "id": "muEbZegW541D",
        "colab_type": "code",
        "colab": {
          "base_uri": "https://localhost:8080/",
          "height": 68
        },
        "outputId": "58c1a38a-67a9-47f2-ee81-506f0f8dcc0f"
      },
      "source": [
        "a5 = np.arange(0,10,2)\n",
        "print(a5)\n",
        "print(type(a5))\n",
        "print(type(a5[0]))"
      ],
      "execution_count": 39,
      "outputs": [
        {
          "output_type": "stream",
          "text": [
            "[0 2 4 6 8]\n",
            "<class 'numpy.ndarray'>\n",
            "<class 'numpy.int64'>\n"
          ],
          "name": "stdout"
        }
      ]
    },
    {
      "cell_type": "code",
      "metadata": {
        "id": "mCI9CPIg6ikN",
        "colab_type": "code",
        "colab": {
          "base_uri": "https://localhost:8080/",
          "height": 34
        },
        "outputId": "6f7907f0-30ae-4b28-ba5b-f9e1681bd8b0"
      },
      "source": [
        "a6 = np.linspace(2,22,3)\n",
        "print(a6)"
      ],
      "execution_count": 46,
      "outputs": [
        {
          "output_type": "stream",
          "text": [
            "[ 2. 12. 22.]\n"
          ],
          "name": "stdout"
        }
      ]
    },
    {
      "cell_type": "code",
      "metadata": {
        "id": "O4AAWORD7XXO",
        "colab_type": "code",
        "colab": {
          "base_uri": "https://localhost:8080/",
          "height": 85
        },
        "outputId": "c60354e8-222e-453d-cf6e-9fab484f86f9"
      },
      "source": [
        "a7 = np.matrix([[1,2],[4,5]])\n",
        "print(a7)\n",
        "print(type(a7))\n",
        "print(type(a7[0]))"
      ],
      "execution_count": 49,
      "outputs": [
        {
          "output_type": "stream",
          "text": [
            "[[1 2]\n",
            " [4 5]]\n",
            "<class 'numpy.matrix'>\n",
            "<class 'numpy.matrix'>\n"
          ],
          "name": "stdout"
        }
      ]
    },
    {
      "cell_type": "code",
      "metadata": {
        "id": "bIQArv7s7pkh",
        "colab_type": "code",
        "colab": {
          "base_uri": "https://localhost:8080/",
          "height": 51
        },
        "outputId": "8da51196-29ef-4742-8c4f-889c4e9ed4b9"
      },
      "source": [
        "a8 = np.matrix([[1,'a'],[3,5]])\n",
        "print(a8)"
      ],
      "execution_count": 56,
      "outputs": [
        {
          "output_type": "stream",
          "text": [
            "[['1' 'a']\n",
            " ['3' '5']]\n"
          ],
          "name": "stdout"
        }
      ]
    },
    {
      "cell_type": "code",
      "metadata": {
        "id": "kUg58v3U7ziE",
        "colab_type": "code",
        "colab": {
          "base_uri": "https://localhost:8080/",
          "height": 102
        },
        "outputId": "eb0ea112-ffb4-4a98-915f-fc0344f107a6"
      },
      "source": [
        "a9 = np.eye(5)\n",
        "print(a9)"
      ],
      "execution_count": 52,
      "outputs": [
        {
          "output_type": "stream",
          "text": [
            "[[1. 0. 0. 0. 0.]\n",
            " [0. 1. 0. 0. 0.]\n",
            " [0. 0. 1. 0. 0.]\n",
            " [0. 0. 0. 1. 0.]\n",
            " [0. 0. 0. 0. 1.]]\n"
          ],
          "name": "stdout"
        }
      ]
    },
    {
      "cell_type": "code",
      "metadata": {
        "id": "w5ssnNOM77Jv",
        "colab_type": "code",
        "colab": {
          "base_uri": "https://localhost:8080/",
          "height": 102
        },
        "outputId": "2694acc0-b4c3-4124-fc9c-fdacdc12ef89"
      },
      "source": [
        "a10 = np.eye(5)*4\n",
        "print(a10)"
      ],
      "execution_count": 53,
      "outputs": [
        {
          "output_type": "stream",
          "text": [
            "[[4. 0. 0. 0. 0.]\n",
            " [0. 4. 0. 0. 0.]\n",
            " [0. 0. 4. 0. 0.]\n",
            " [0. 0. 0. 4. 0.]\n",
            " [0. 0. 0. 0. 4.]]\n"
          ],
          "name": "stdout"
        }
      ]
    },
    {
      "cell_type": "code",
      "metadata": {
        "id": "OABjDKUk8GXx",
        "colab_type": "code",
        "colab": {
          "base_uri": "https://localhost:8080/",
          "height": 51
        },
        "outputId": "e5c97f3b-94e4-4925-c406-98f4d507b049"
      },
      "source": [
        "a11 = np.zeros((2,3),dtype=np.int32)\n",
        "print(a11)"
      ],
      "execution_count": 60,
      "outputs": [
        {
          "output_type": "stream",
          "text": [
            "[[0 0 0]\n",
            " [0 0 0]]\n"
          ],
          "name": "stdout"
        }
      ]
    },
    {
      "cell_type": "code",
      "metadata": {
        "id": "Fwnw2IgqCfkE",
        "colab_type": "code",
        "colab": {
          "base_uri": "https://localhost:8080/",
          "height": 51
        },
        "outputId": "a636601a-92a2-4d0a-d797-77dc2d2f7024"
      },
      "source": [
        "a12 = np.ones((2,3),dtype=np.int32) * 5\n",
        "print(a12)"
      ],
      "execution_count": 63,
      "outputs": [
        {
          "output_type": "stream",
          "text": [
            "[[5 5 5]\n",
            " [5 5 5]]\n"
          ],
          "name": "stdout"
        }
      ]
    },
    {
      "cell_type": "code",
      "metadata": {
        "id": "YRI-q6h1C206",
        "colab_type": "code",
        "colab": {
          "base_uri": "https://localhost:8080/",
          "height": 34
        },
        "outputId": "f44a92bf-3720-4a4d-e967-95ebf87d6d68"
      },
      "source": [
        "a13 = np.dtype('<U11')\n",
        "print(type(a13))"
      ],
      "execution_count": 66,
      "outputs": [
        {
          "output_type": "stream",
          "text": [
            "<class 'numpy.dtype'>\n"
          ],
          "name": "stdout"
        }
      ]
    },
    {
      "cell_type": "code",
      "metadata": {
        "id": "WIWUFlbnDcTv",
        "colab_type": "code",
        "colab": {
          "base_uri": "https://localhost:8080/",
          "height": 51
        },
        "outputId": "8029003c-aa50-4287-b0d1-ad46751b1460"
      },
      "source": [
        "b1 = np.array([[1,2,4,5,6,8],[4,4,1,7,9,2]])\n",
        "b2 = np.array([[5,1,8,1,3,7],[0,1,7,3,8,1]])\n",
        "print(b1-b2)"
      ],
      "execution_count": 71,
      "outputs": [
        {
          "output_type": "stream",
          "text": [
            "[[-4  1 -4  4  3  1]\n",
            " [ 4  3 -6  4  1  1]]\n"
          ],
          "name": "stdout"
        }
      ]
    },
    {
      "cell_type": "code",
      "metadata": {
        "id": "TzxzW1TsFqc_",
        "colab_type": "code",
        "colab": {
          "base_uri": "https://localhost:8080/",
          "height": 51
        },
        "outputId": "cd3f6b2c-adaf-4d19-a6aa-cd42fd62cb41"
      },
      "source": [
        "print(b1>8)"
      ],
      "execution_count": 72,
      "outputs": [
        {
          "output_type": "stream",
          "text": [
            "[[False False False False False False]\n",
            " [False False False False  True False]]\n"
          ],
          "name": "stdout"
        }
      ]
    },
    {
      "cell_type": "code",
      "metadata": {
        "id": "FXcNcqSIFo6M",
        "colab_type": "code",
        "colab": {
          "base_uri": "https://localhost:8080/",
          "height": 51
        },
        "outputId": "8f91f02b-ffc7-4d54-ec00-b94d8a458001"
      },
      "source": [
        "print(np.less(b1,b2))"
      ],
      "execution_count": 73,
      "outputs": [
        {
          "output_type": "stream",
          "text": [
            "[[ True False  True False False False]\n",
            " [False False  True False False False]]\n"
          ],
          "name": "stdout"
        }
      ]
    },
    {
      "cell_type": "code",
      "metadata": {
        "id": "zXpM0ibpFxwp",
        "colab_type": "code",
        "colab": {
          "base_uri": "https://localhost:8080/",
          "height": 34
        },
        "outputId": "b482f16d-f901-4c98-d8aa-bf69f76e97d7"
      },
      "source": [
        "b3 = np.cumsum(b1)\n",
        "print(b3)"
      ],
      "execution_count": 74,
      "outputs": [
        {
          "output_type": "stream",
          "text": [
            "[ 1  3  7 12 18 26 30 34 35 42 51 53]\n"
          ],
          "name": "stdout"
        }
      ]
    },
    {
      "cell_type": "code",
      "metadata": {
        "id": "sDNrtsSDF-Wy",
        "colab_type": "code",
        "colab": {
          "base_uri": "https://localhost:8080/",
          "height": 51
        },
        "outputId": "8d0725a4-e79c-451d-dc85-ffa4d66c0525"
      },
      "source": [
        "b4 = np.cumsum(b1,axis=0)\n",
        "print(b4)"
      ],
      "execution_count": 76,
      "outputs": [
        {
          "output_type": "stream",
          "text": [
            "[[ 1  2  4  5  6  8]\n",
            " [ 5  6  5 12 15 10]]\n"
          ],
          "name": "stdout"
        }
      ]
    },
    {
      "cell_type": "code",
      "metadata": {
        "id": "GlJhe_rBG4vs",
        "colab_type": "code",
        "colab": {
          "base_uri": "https://localhost:8080/",
          "height": 221
        },
        "outputId": "ef27dcee-f4e3-4c28-fc50-095acf92683a"
      },
      "source": [
        "b5 = np.random.random((6,6))\n",
        "b5"
      ],
      "execution_count": 78,
      "outputs": [
        {
          "output_type": "execute_result",
          "data": {
            "text/plain": [
              "array([[0.63032447, 0.07542691, 0.20501891, 0.04315171, 0.1775766 ,\n",
              "        0.53724517],\n",
              "       [0.26562781, 0.36727547, 0.6486799 , 0.70149977, 0.82621411,\n",
              "        0.29445037],\n",
              "       [0.37185626, 0.24482034, 0.08198858, 0.33140107, 0.39654316,\n",
              "        0.52471963],\n",
              "       [0.26651281, 0.75835477, 0.40137607, 0.43879835, 0.79379601,\n",
              "        0.37367722],\n",
              "       [0.69754224, 0.22931744, 0.82398129, 0.37381423, 0.61294863,\n",
              "        0.91760707],\n",
              "       [0.66490528, 0.3639134 , 0.67584472, 0.24506807, 0.66823318,\n",
              "        0.35742149]])"
            ]
          },
          "metadata": {
            "tags": []
          },
          "execution_count": 78
        }
      ]
    },
    {
      "cell_type": "code",
      "metadata": {
        "id": "vRExNT7FHZF_",
        "colab_type": "code",
        "colab": {
          "base_uri": "https://localhost:8080/",
          "height": 68
        },
        "outputId": "0e4ac21a-f53b-4751-9ffd-e97190e60942"
      },
      "source": [
        "lst = [5,1,3,7,9]\n",
        "print(np.min(np.array(lst)))\n",
        "print(np.mean(np.array(lst)))\n",
        "print(np.median(lst))"
      ],
      "execution_count": 82,
      "outputs": [
        {
          "output_type": "stream",
          "text": [
            "1\n",
            "5.0\n",
            "5.0\n"
          ],
          "name": "stdout"
        }
      ]
    },
    {
      "cell_type": "code",
      "metadata": {
        "id": "PS4gVq6RImn_",
        "colab_type": "code",
        "colab": {
          "base_uri": "https://localhost:8080/",
          "height": 34
        },
        "outputId": "cca7bc59-895b-45f8-f209-32844a8984f9"
      },
      "source": [
        "b6 = np.arange(1,16,1)\n",
        "print(np.median(b6))"
      ],
      "execution_count": 90,
      "outputs": [
        {
          "output_type": "stream",
          "text": [
            "8.0\n"
          ],
          "name": "stdout"
        }
      ]
    },
    {
      "cell_type": "code",
      "metadata": {
        "id": "Y4JZDN5KI9QT",
        "colab_type": "code",
        "colab": {
          "base_uri": "https://localhost:8080/",
          "height": 68
        },
        "outputId": "3595c20d-5bd1-4256-e351-96c4698b91ba"
      },
      "source": [
        "b7 = np.matrix([[1,2],[3,4]])\n",
        "print(np.median(b7,axis=0))\n",
        "print(np.cumsum(b7,axis=1))"
      ],
      "execution_count": 92,
      "outputs": [
        {
          "output_type": "stream",
          "text": [
            "[[2. 3.]]\n",
            "[[1 3]\n",
            " [3 7]]\n"
          ],
          "name": "stdout"
        }
      ]
    },
    {
      "cell_type": "code",
      "metadata": {
        "id": "xBLdfZcpKojQ",
        "colab_type": "code",
        "colab": {}
      },
      "source": [
        "import os.path\n",
        "from skimage.io import imread\n",
        "from skimage import data_dir"
      ],
      "execution_count": 0,
      "outputs": []
    },
    {
      "cell_type": "code",
      "metadata": {
        "id": "BLtrGK7WK-4L",
        "colab_type": "code",
        "colab": {
          "base_uri": "https://localhost:8080/",
          "height": 282
        },
        "outputId": "a5759d52-f8bc-450e-b601-69800296fd93"
      },
      "source": [
        "img = imread(os.path.join(data_dir,'checker_bilevel.png'))\n",
        "plt.imshow(img)"
      ],
      "execution_count": 95,
      "outputs": [
        {
          "output_type": "execute_result",
          "data": {
            "text/plain": [
              "<matplotlib.image.AxesImage at 0x7f473eae17f0>"
            ]
          },
          "metadata": {
            "tags": []
          },
          "execution_count": 95
        },
        {
          "output_type": "display_data",
          "data": {
            "image/png": "[encoded data removed]",
            "text/plain": [
              "<Figure size 432x288 with 1 Axes>"
            ]
          },
          "metadata": {
            "tags": [],
            "needs_background": "light"
          }
        }
      ]
    },
    {
      "cell_type": "code",
      "metadata": {
        "id": "B16U0EuOLes9",
        "colab_type": "code",
        "colab": {
          "base_uri": "https://localhost:8080/",
          "height": 51
        },
        "outputId": "0f5a8adb-b1b1-4ac2-8cab-5a69602a32d8"
      },
      "source": [
        "print(type(img))\n",
        "print(np.ndim(img))"
      ],
      "execution_count": 96,
      "outputs": [
        {
          "output_type": "stream",
          "text": [
            "<class 'numpy.ndarray'>\n",
            "2\n"
          ],
          "name": "stdout"
        }
      ]
    },
    {
      "cell_type": "code",
      "metadata": {
        "id": "Ihc6aJQTMY-o",
        "colab_type": "code",
        "colab": {
          "base_uri": "https://localhost:8080/",
          "height": 34
        },
        "outputId": "08b1e5e6-739b-4f19-fcd8-82d4fa6a50d1"
      },
      "source": [
        "np.shape(img)"
      ],
      "execution_count": 97,
      "outputs": [
        {
          "output_type": "execute_result",
          "data": {
            "text/plain": [
              "(10, 10)"
            ]
          },
          "metadata": {
            "tags": []
          },
          "execution_count": 97
        }
      ]
    },
    {
      "cell_type": "code",
      "metadata": {
        "id": "hxljcyfXMuzJ",
        "colab_type": "code",
        "colab": {
          "base_uri": "https://localhost:8080/",
          "height": 34
        },
        "outputId": "1545e2f2-6abd-4cc0-eb12-b5ae3da54f42"
      },
      "source": [
        "img.size"
      ],
      "execution_count": 99,
      "outputs": [
        {
          "output_type": "execute_result",
          "data": {
            "text/plain": [
              "100"
            ]
          },
          "metadata": {
            "tags": []
          },
          "execution_count": 99
        }
      ]
    },
    {
      "cell_type": "code",
      "metadata": {
        "id": "dP-46xnCM0W0",
        "colab_type": "code",
        "colab": {
          "base_uri": "https://localhost:8080/",
          "height": 34
        },
        "outputId": "7044dc62-f4b8-4a4e-8331-825a100f9f5d"
      },
      "source": [
        "img.itemsize"
      ],
      "execution_count": 100,
      "outputs": [
        {
          "output_type": "execute_result",
          "data": {
            "text/plain": [
              "1"
            ]
          },
          "metadata": {
            "tags": []
          },
          "execution_count": 100
        }
      ]
    },
    {
      "cell_type": "code",
      "metadata": {
        "id": "c369tEscNU3A",
        "colab_type": "code",
        "colab": {
          "base_uri": "https://localhost:8080/",
          "height": 34
        },
        "outputId": "81a3cf38-d979-40b4-b265-80a8487661f8"
      },
      "source": [
        "img.nbytes"
      ],
      "execution_count": 101,
      "outputs": [
        {
          "output_type": "execute_result",
          "data": {
            "text/plain": [
              "100"
            ]
          },
          "metadata": {
            "tags": []
          },
          "execution_count": 101
        }
      ]
    },
    {
      "cell_type": "code",
      "metadata": {
        "id": "S9jxbogmOTiF",
        "colab_type": "code",
        "colab": {
          "base_uri": "https://localhost:8080/",
          "height": 187
        },
        "outputId": "f4011b73-55a7-4a1c-e5ce-0e3b72d54bc4"
      },
      "source": [
        "img.T"
      ],
      "execution_count": 102,
      "outputs": [
        {
          "output_type": "execute_result",
          "data": {
            "text/plain": [
              "array([[255,   0, 255,   0, 255,   0, 255,   0, 255,   0],\n",
              "       [255,   0, 255,   0, 255,   0, 255,   0, 255,   0],\n",
              "       [255,   0, 255,   0, 255,   0, 255,   0, 255,   0],\n",
              "       [255,   0, 255,   0, 255,   0, 255,   0, 255,   0],\n",
              "       [255,   0, 255,   0, 255,   0, 255,   0, 255,   0],\n",
              "       [255,   0, 255,   0, 255,   0, 255,   0, 255,   0],\n",
              "       [255,   0, 255,   0, 255,   0, 255,   0, 255,   0],\n",
              "       [255,   0, 255,   0, 255,   0, 255,   0, 255,   0],\n",
              "       [255,   0, 255,   0, 255,   0, 255,   0, 255,   0],\n",
              "       [255,   0, 255,   0, 255,   0, 255,   0, 255,   0]], dtype=uint8)"
            ]
          },
          "metadata": {
            "tags": []
          },
          "execution_count": 102
        }
      ]
    },
    {
      "cell_type": "code",
      "metadata": {
        "id": "zycZUGYpOWw0",
        "colab_type": "code",
        "colab": {
          "base_uri": "https://localhost:8080/",
          "height": 72
        },
        "outputId": "5c0e2e34-0a2b-4bae-a36a-d44abb05d64a"
      },
      "source": [
        "img_1 = img.reshape((1,100))\n",
        "plt.imshow(img_1)"
      ],
      "execution_count": 103,
      "outputs": [
        {
          "output_type": "execute_result",
          "data": {
            "text/plain": [
              "<matplotlib.image.AxesImage at 0x7f473ea18ba8>"
            ]
          },
          "metadata": {
            "tags": []
          },
          "execution_count": 103
        },
        {
          "output_type": "display_data",
          "data": {
            "image/png": "[encoded data removed]",
            "text/plain": [
              "<Figure size 432x288 with 1 Axes>"
            ]
          },
          "metadata": {
            "tags": [],
            "needs_background": "light"
          }
        }
      ]
    },
    {
      "cell_type": "code",
      "metadata": {
        "id": "QXZ-GIi5OuKN",
        "colab_type": "code",
        "colab": {
          "base_uri": "https://localhost:8080/",
          "height": 282
        },
        "outputId": "c0215135-48ae-445a-b4cd-d5c0191836ae"
      },
      "source": [
        "img_2 = img.copy()\n",
        "img_2.sort(axis=0)\n",
        "plt.imshow(img_2)"
      ],
      "execution_count": 104,
      "outputs": [
        {
          "output_type": "execute_result",
          "data": {
            "text/plain": [
              "<matplotlib.image.AxesImage at 0x7f473e9ef438>"
            ]
          },
          "metadata": {
            "tags": []
          },
          "execution_count": 104
        },
        {
          "output_type": "display_data",
          "data": {
            "image/png": "[encoded data removed]",
            "text/plain": [
              "<Figure size 432x288 with 1 Axes>"
            ]
          },
          "metadata": {
            "tags": [],
            "needs_background": "light"
          }
        }
      ]
    },
    {
      "cell_type": "code",
      "metadata": {
        "id": "WRB5NdNgP-02",
        "colab_type": "code",
        "colab": {
          "base_uri": "https://localhost:8080/",
          "height": 282
        },
        "outputId": "122a5faa-a701-4206-d139-4d886887daba"
      },
      "source": [
        "plt.imshow(img,cmap='gray')"
      ],
      "execution_count": 106,
      "outputs": [
        {
          "output_type": "execute_result",
          "data": {
            "text/plain": [
              "<matplotlib.image.AxesImage at 0x7f473e91ac18>"
            ]
          },
          "metadata": {
            "tags": []
          },
          "execution_count": 106
        },
        {
          "output_type": "display_data",
          "data": {
            "image/png": "[encoded data removed]",
            "text/plain": [
              "<Figure size 432x288 with 1 Axes>"
            ]
          },
          "metadata": {
            "tags": [],
            "needs_background": "light"
          }
        }
      ]
    },
    {
      "cell_type": "code",
      "metadata": {
        "id": "o9GOAMqGQmhI",
        "colab_type": "code",
        "colab": {
          "base_uri": "https://localhost:8080/",
          "height": 286
        },
        "outputId": "a649cebc-3d41-4839-e91f-66e520a25e2f"
      },
      "source": [
        "img_4 = imread(os.path.join(data_dir,'astronaut.png'))\n",
        "plt.imshow(img_4)"
      ],
      "execution_count": 129,
      "outputs": [
        {
          "output_type": "execute_result",
          "data": {
            "text/plain": [
              "<matplotlib.image.AxesImage at 0x7f473974e978>"
            ]
          },
          "metadata": {
            "tags": []
          },
          "execution_count": 129
        },
        {
          "output_type": "display_data",
          "data": {
            "image/png": "[encoded data removed]",
            "text/plain": [
              "<Figure size 432x288 with 1 Axes>"
            ]
          },
          "metadata": {
            "tags": [],
            "needs_background": "light"
          }
        }
      ]
    },
    {
      "cell_type": "code",
      "metadata": {
        "id": "aDAlLQ5vsL9j",
        "colab_type": "code",
        "colab": {
          "base_uri": "https://localhost:8080/",
          "height": 34
        },
        "outputId": "402f9cba-edc2-4d9c-b2e9-085ed787de39"
      },
      "source": [
        "img_4.shape"
      ],
      "execution_count": 110,
      "outputs": [
        {
          "output_type": "execute_result",
          "data": {
            "text/plain": [
              "(512, 512, 3)"
            ]
          },
          "metadata": {
            "tags": []
          },
          "execution_count": 110
        }
      ]
    },
    {
      "cell_type": "code",
      "metadata": {
        "id": "khNxaz1Zsv8B",
        "colab_type": "code",
        "colab": {
          "base_uri": "https://localhost:8080/",
          "height": 34
        },
        "outputId": "25fcb698-ef26-4441-8d75-8d1140880836"
      },
      "source": [
        "img_4.ndim"
      ],
      "execution_count": 111,
      "outputs": [
        {
          "output_type": "execute_result",
          "data": {
            "text/plain": [
              "3"
            ]
          },
          "metadata": {
            "tags": []
          },
          "execution_count": 111
        }
      ]
    },
    {
      "cell_type": "code",
      "metadata": {
        "id": "ix2p3brcs0d_",
        "colab_type": "code",
        "colab": {
          "base_uri": "https://localhost:8080/",
          "height": 286
        },
        "outputId": "40b7657d-b3c9-485c-e205-6606c40dea8a"
      },
      "source": [
        "img4_slice = img_4.copy()\n",
        "img4_slice = img4_slice[0:300,350:480]\n",
        "plt.imshow(img4_slice)"
      ],
      "execution_count": 117,
      "outputs": [
        {
          "output_type": "execute_result",
          "data": {
            "text/plain": [
              "<matplotlib.image.AxesImage at 0x7f473e784208>"
            ]
          },
          "metadata": {
            "tags": []
          },
          "execution_count": 117
        },
        {
          "output_type": "display_data",
          "data": {
            "image/png": "[encoded data removed]",
            "text/plain": [
              "<Figure size 432x288 with 1 Axes>"
            ]
          },
          "metadata": {
            "tags": [],
            "needs_background": "light"
          }
        }
      ]
    },
    {
      "cell_type": "code",
      "metadata": {
        "id": "pGO3zMQEyKZj",
        "colab_type": "code",
        "colab": {
          "base_uri": "https://localhost:8080/",
          "height": 71
        },
        "outputId": "c9dca3bc-2608-48fd-b31c-67c5bfaeaff7"
      },
      "source": [
        "import skimage\n",
        "import os\n",
        "print(skimage.data_dir)\n",
        "print(os.listdir(skimage.data_dir))"
      ],
      "execution_count": 137,
      "outputs": [
        {
          "output_type": "stream",
          "text": [
            "/usr/local/lib/python3.6/dist-packages/skimage/data\n",
            "['_binary_blobs.py', 'checker_bilevel.png', 'brick.png', 'motorcycle_disp.npz', 'chessboard_GRAY_U16.tif', 'simple.fits', 'chessboard_GRAY.png', 'chessboard_GRAY_U16B.tif', 'hubble_deep_field.jpg', 'moon.png', 'palette_gray.png', 'cell.png', 'rank_filter_tests.npz', 'grass.png', 'chelsea.png', 'coins.png', 'logo.png', 'lbpcascade_frontalface_opencv.xml', 'camera.png', 'gray_morph_output.npz', '_blobs_3d_fiji_skeleton.tif', 'multipage_rgb.tif', 'chessboard_RGB_U8.npz', 'retina.jpg', 'disk-matlab-output.npz', 'color.png', 'diamond-matlab-output.npz', 'phantom.png', 'multipage.tif', 'astronaut.png', 'text.png', '_detect.py', '__pycache__', 'green_palette.png', 'bw_text.png', 'chessboard_GRAY_U8.npz', 'no_time_for_that_tiny.gif', 'page.png', 'ihc.png', 'astronaut_GRAY_hog_L2-Hys.npy', 'lfw_subset.npy', 'block.png', 'palette_color.png', 'astronaut_GRAY_hog_L1.npy', 'coffee.png', 'gravel.png', 'motorcycle_left.png', 'truncated.jpg', 'mssim_matlab_output.npz', '__init__.py', 'motorcycle_right.png', 'orb_descriptor_positions.txt', 'microaneurysms.png', 'multi.fits', 'tests', 'foo3x5x4indexed.png', 'chessboard_RGB.png', 'chessboard_RGB_U8.npy', 'rocket.jpg', 'bw_text_skeleton.npy', 'horse.png', 'chessboard_GRAY_U8.npy', 'clock_motion.png']\n"
          ],
          "name": "stdout"
        }
      ]
    },
    {
      "cell_type": "code",
      "metadata": {
        "id": "6qpOZgSC1k55",
        "colab_type": "code",
        "colab": {
          "base_uri": "https://localhost:8080/",
          "height": 95
        },
        "outputId": "0ed874c7-0e72-4d87-e48e-da74ba8db03c"
      },
      "source": [
        ""
      ],
      "execution_count": 148,
      "outputs": [
        {
          "output_type": "error",
          "ename": "SyntaxError",
          "evalue": "ignored",
          "traceback": [
            "\u001b[0;36m  File \u001b[0;32m\"<string>\"\u001b[0;36m, line \u001b[0;32munknown\u001b[0m\n\u001b[0;31mSyntaxError\u001b[0m\u001b[0;31m:\u001b[0m index out of range\n"
          ]
        }
      ]
    }
  ]
}